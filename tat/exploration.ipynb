{
 "cells": [
  {
   "cell_type": "markdown",
   "metadata": {},
   "source": [
    "## Notes\n",
    "Each trial has different items, each with own value (different items for each trial)"
   ]
  },
  {
   "cell_type": "code",
   "execution_count": 1,
   "metadata": {},
   "outputs": [],
   "source": [
    "import numpy as np\n",
    "import pandas as pd\n",
    "\n",
    "import matplotlib.pyplot as plt\n",
    "%matplotlib inline\n"
   ]
  },
  {
   "cell_type": "code",
   "execution_count": 2,
   "metadata": {},
   "outputs": [],
   "source": [
    "# directories\n",
    "data_dir = '../data/'\n",
    "setsizes = np.array([9, 16, 25, 36])\n",
    "numsubjects = 49"
   ]
  },
  {
   "cell_type": "code",
   "execution_count": 3,
   "metadata": {},
   "outputs": [
    {
     "data": {
      "text/html": [
       "<div>\n",
       "<style scoped>\n",
       "    .dataframe tbody tr th:only-of-type {\n",
       "        vertical-align: middle;\n",
       "    }\n",
       "\n",
       "    .dataframe tbody tr th {\n",
       "        vertical-align: top;\n",
       "    }\n",
       "\n",
       "    .dataframe thead th {\n",
       "        text-align: right;\n",
       "    }\n",
       "</style>\n",
       "<table border=\"1\" class=\"dataframe\">\n",
       "  <thead>\n",
       "    <tr style=\"text-align: right;\">\n",
       "      <th></th>\n",
       "      <th>subject</th>\n",
       "      <th>setsize</th>\n",
       "      <th>trial</th>\n",
       "      <th>item</th>\n",
       "      <th>dur</th>\n",
       "      <th>onset</th>\n",
       "      <th>stimulus</th>\n",
       "      <th>gaze_num</th>\n",
       "      <th>is_returning</th>\n",
       "      <th>returning_gaze_count</th>\n",
       "      <th>is_last</th>\n",
       "      <th>is_first</th>\n",
       "      <th>item_value</th>\n",
       "      <th>choice</th>\n",
       "      <th>is_last_to_choice</th>\n",
       "    </tr>\n",
       "  </thead>\n",
       "  <tbody>\n",
       "    <tr>\n",
       "      <th>0</th>\n",
       "      <td>2</td>\n",
       "      <td>36</td>\n",
       "      <td>1</td>\n",
       "      <td>15</td>\n",
       "      <td>144.0</td>\n",
       "      <td>424.0</td>\n",
       "      <td>nr4.png</td>\n",
       "      <td>1.0</td>\n",
       "      <td>0.0</td>\n",
       "      <td>0.0</td>\n",
       "      <td>0.0</td>\n",
       "      <td>1.0</td>\n",
       "      <td>1.0</td>\n",
       "      <td>6</td>\n",
       "      <td>0.0</td>\n",
       "    </tr>\n",
       "    <tr>\n",
       "      <th>1</th>\n",
       "      <td>2</td>\n",
       "      <td>36</td>\n",
       "      <td>1</td>\n",
       "      <td>14</td>\n",
       "      <td>136.0</td>\n",
       "      <td>604.0</td>\n",
       "      <td>nr51.png</td>\n",
       "      <td>2.0</td>\n",
       "      <td>0.0</td>\n",
       "      <td>0.0</td>\n",
       "      <td>0.0</td>\n",
       "      <td>0.0</td>\n",
       "      <td>-2.0</td>\n",
       "      <td>6</td>\n",
       "      <td>0.0</td>\n",
       "    </tr>\n",
       "    <tr>\n",
       "      <th>2</th>\n",
       "      <td>2</td>\n",
       "      <td>36</td>\n",
       "      <td>1</td>\n",
       "      <td>8</td>\n",
       "      <td>206.0</td>\n",
       "      <td>782.0</td>\n",
       "      <td>nr44.png</td>\n",
       "      <td>3.0</td>\n",
       "      <td>0.0</td>\n",
       "      <td>0.0</td>\n",
       "      <td>0.0</td>\n",
       "      <td>0.0</td>\n",
       "      <td>2.0</td>\n",
       "      <td>6</td>\n",
       "      <td>0.0</td>\n",
       "    </tr>\n",
       "    <tr>\n",
       "      <th>3</th>\n",
       "      <td>2</td>\n",
       "      <td>36</td>\n",
       "      <td>1</td>\n",
       "      <td>16</td>\n",
       "      <td>210.0</td>\n",
       "      <td>1210.0</td>\n",
       "      <td>nr56.png</td>\n",
       "      <td>4.0</td>\n",
       "      <td>0.0</td>\n",
       "      <td>0.0</td>\n",
       "      <td>0.0</td>\n",
       "      <td>0.0</td>\n",
       "      <td>0.0</td>\n",
       "      <td>6</td>\n",
       "      <td>0.0</td>\n",
       "    </tr>\n",
       "    <tr>\n",
       "      <th>4</th>\n",
       "      <td>2</td>\n",
       "      <td>36</td>\n",
       "      <td>1</td>\n",
       "      <td>33</td>\n",
       "      <td>246.0</td>\n",
       "      <td>1616.0</td>\n",
       "      <td>nr90.png</td>\n",
       "      <td>5.0</td>\n",
       "      <td>0.0</td>\n",
       "      <td>0.0</td>\n",
       "      <td>0.0</td>\n",
       "      <td>0.0</td>\n",
       "      <td>2.0</td>\n",
       "      <td>6</td>\n",
       "      <td>0.0</td>\n",
       "    </tr>\n",
       "  </tbody>\n",
       "</table>\n",
       "</div>"
      ],
      "text/plain": [
       "   subject  setsize  trial  item    dur   onset  stimulus  gaze_num  \\\n",
       "0        2       36      1    15  144.0   424.0   nr4.png       1.0   \n",
       "1        2       36      1    14  136.0   604.0  nr51.png       2.0   \n",
       "2        2       36      1     8  206.0   782.0  nr44.png       3.0   \n",
       "3        2       36      1    16  210.0  1210.0  nr56.png       4.0   \n",
       "4        2       36      1    33  246.0  1616.0  nr90.png       5.0   \n",
       "\n",
       "   is_returning  returning_gaze_count  is_last  is_first  item_value  choice  \\\n",
       "0           0.0                   0.0      0.0       1.0         1.0       6   \n",
       "1           0.0                   0.0      0.0       0.0        -2.0       6   \n",
       "2           0.0                   0.0      0.0       0.0         2.0       6   \n",
       "3           0.0                   0.0      0.0       0.0         0.0       6   \n",
       "4           0.0                   0.0      0.0       0.0         2.0       6   \n",
       "\n",
       "   is_last_to_choice  \n",
       "0                0.0  \n",
       "1                0.0  \n",
       "2                0.0  \n",
       "3                0.0  \n",
       "4                0.0  "
      ]
     },
     "execution_count": 3,
     "metadata": {},
     "output_type": "execute_result"
    }
   ],
   "source": [
    "subject = 2\n",
    "c = 36\n",
    "tmp_data = pd.read_csv(data_dir+'subject_files/sub-{}_setsize-{}_desc-gazes.csv'.format(subject, c))\n",
    "tmp_data.head()"
   ]
  },
  {
   "cell_type": "code",
   "execution_count": null,
   "metadata": {},
   "outputs": [],
   "source": [
    "items_df = tmp_data[['trial', 'item', 'item_value', 'stimulus']]\n",
    "#items_df = items_df.drop_duplicates()\n",
    "items_df.query('item==21')"
   ]
  },
  {
   "cell_type": "code",
   "execution_count": null,
   "metadata": {},
   "outputs": [],
   "source": []
  },
  {
   "cell_type": "code",
   "execution_count": 9,
   "metadata": {},
   "outputs": [
    {
     "data": {
      "text/html": [
       "<div>\n",
       "<style scoped>\n",
       "    .dataframe tbody tr th:only-of-type {\n",
       "        vertical-align: middle;\n",
       "    }\n",
       "\n",
       "    .dataframe tbody tr th {\n",
       "        vertical-align: top;\n",
       "    }\n",
       "\n",
       "    .dataframe thead th {\n",
       "        text-align: right;\n",
       "    }\n",
       "</style>\n",
       "<table border=\"1\" class=\"dataframe\">\n",
       "  <thead>\n",
       "    <tr style=\"text-align: right;\">\n",
       "      <th></th>\n",
       "      <th>subject</th>\n",
       "      <th>setsize</th>\n",
       "      <th>trial</th>\n",
       "      <th>item</th>\n",
       "      <th>dur</th>\n",
       "      <th>onset</th>\n",
       "      <th>stimulus</th>\n",
       "      <th>gaze_num</th>\n",
       "      <th>is_returning</th>\n",
       "      <th>returning_gaze_count</th>\n",
       "      <th>is_last</th>\n",
       "      <th>is_first</th>\n",
       "      <th>item_value</th>\n",
       "      <th>choice</th>\n",
       "      <th>is_last_to_choice</th>\n",
       "    </tr>\n",
       "  </thead>\n",
       "  <tbody>\n",
       "    <tr>\n",
       "      <th>0</th>\n",
       "      <td>2</td>\n",
       "      <td>36</td>\n",
       "      <td>1</td>\n",
       "      <td>15</td>\n",
       "      <td>144.0</td>\n",
       "      <td>424.0</td>\n",
       "      <td>nr4.png</td>\n",
       "      <td>1.0</td>\n",
       "      <td>0.0</td>\n",
       "      <td>0.0</td>\n",
       "      <td>0.0</td>\n",
       "      <td>1.0</td>\n",
       "      <td>1.0</td>\n",
       "      <td>6</td>\n",
       "      <td>0.0</td>\n",
       "    </tr>\n",
       "    <tr>\n",
       "      <th>1</th>\n",
       "      <td>2</td>\n",
       "      <td>36</td>\n",
       "      <td>1</td>\n",
       "      <td>14</td>\n",
       "      <td>136.0</td>\n",
       "      <td>604.0</td>\n",
       "      <td>nr51.png</td>\n",
       "      <td>2.0</td>\n",
       "      <td>0.0</td>\n",
       "      <td>0.0</td>\n",
       "      <td>0.0</td>\n",
       "      <td>0.0</td>\n",
       "      <td>-2.0</td>\n",
       "      <td>6</td>\n",
       "      <td>0.0</td>\n",
       "    </tr>\n",
       "    <tr>\n",
       "      <th>2</th>\n",
       "      <td>2</td>\n",
       "      <td>36</td>\n",
       "      <td>1</td>\n",
       "      <td>8</td>\n",
       "      <td>206.0</td>\n",
       "      <td>782.0</td>\n",
       "      <td>nr44.png</td>\n",
       "      <td>3.0</td>\n",
       "      <td>0.0</td>\n",
       "      <td>0.0</td>\n",
       "      <td>0.0</td>\n",
       "      <td>0.0</td>\n",
       "      <td>2.0</td>\n",
       "      <td>6</td>\n",
       "      <td>0.0</td>\n",
       "    </tr>\n",
       "    <tr>\n",
       "      <th>3</th>\n",
       "      <td>2</td>\n",
       "      <td>36</td>\n",
       "      <td>1</td>\n",
       "      <td>16</td>\n",
       "      <td>210.0</td>\n",
       "      <td>1210.0</td>\n",
       "      <td>nr56.png</td>\n",
       "      <td>4.0</td>\n",
       "      <td>0.0</td>\n",
       "      <td>0.0</td>\n",
       "      <td>0.0</td>\n",
       "      <td>0.0</td>\n",
       "      <td>0.0</td>\n",
       "      <td>6</td>\n",
       "      <td>0.0</td>\n",
       "    </tr>\n",
       "    <tr>\n",
       "      <th>4</th>\n",
       "      <td>2</td>\n",
       "      <td>36</td>\n",
       "      <td>1</td>\n",
       "      <td>33</td>\n",
       "      <td>246.0</td>\n",
       "      <td>1616.0</td>\n",
       "      <td>nr90.png</td>\n",
       "      <td>5.0</td>\n",
       "      <td>0.0</td>\n",
       "      <td>0.0</td>\n",
       "      <td>0.0</td>\n",
       "      <td>0.0</td>\n",
       "      <td>2.0</td>\n",
       "      <td>6</td>\n",
       "      <td>0.0</td>\n",
       "    </tr>\n",
       "  </tbody>\n",
       "</table>\n",
       "</div>"
      ],
      "text/plain": [
       "   subject  setsize  trial  item    dur   onset  stimulus  gaze_num   \n",
       "0        2       36      1    15  144.0   424.0   nr4.png       1.0  \\\n",
       "1        2       36      1    14  136.0   604.0  nr51.png       2.0   \n",
       "2        2       36      1     8  206.0   782.0  nr44.png       3.0   \n",
       "3        2       36      1    16  210.0  1210.0  nr56.png       4.0   \n",
       "4        2       36      1    33  246.0  1616.0  nr90.png       5.0   \n",
       "\n",
       "   is_returning  returning_gaze_count  is_last  is_first  item_value  choice   \n",
       "0           0.0                   0.0      0.0       1.0         1.0       6  \\\n",
       "1           0.0                   0.0      0.0       0.0        -2.0       6   \n",
       "2           0.0                   0.0      0.0       0.0         2.0       6   \n",
       "3           0.0                   0.0      0.0       0.0         0.0       6   \n",
       "4           0.0                   0.0      0.0       0.0         2.0       6   \n",
       "\n",
       "   is_last_to_choice  \n",
       "0                0.0  \n",
       "1                0.0  \n",
       "2                0.0  \n",
       "3                0.0  \n",
       "4                0.0  "
      ]
     },
     "execution_count": 9,
     "metadata": {},
     "output_type": "execute_result"
    }
   ],
   "source": [
    "tmp_data.head()"
   ]
  },
  {
   "cell_type": "markdown",
   "metadata": {},
   "source": [
    "## Fit gamma to durations"
   ]
  },
  {
   "cell_type": "code",
   "execution_count": 6,
   "metadata": {},
   "outputs": [
    {
     "data": {
      "text/plain": [
       "<AxesSubplot: >"
      ]
     },
     "execution_count": 6,
     "metadata": {},
     "output_type": "execute_result"
    },
    {
     "data": {
      "image/png": "[encoded data removed]",
      "text/plain": [
       "<Figure size 640x480 with 1 Axes>"
      ]
     },
     "metadata": {},
     "output_type": "display_data"
    }
   ],
   "source": [
    "# check duration distro of duration - many short ones\n",
    "tmp_data.dur.hist()"
   ]
  },
  {
   "cell_type": "code",
   "execution_count": 23,
   "metadata": {},
   "outputs": [],
   "source": [
    "# fit gamma to durations\n",
    "from scipy.stats import gamma, lognorm\n",
    "import seaborn as sns"
   ]
  },
  {
   "cell_type": "code",
   "execution_count": 29,
   "metadata": {},
   "outputs": [],
   "source": [
    "# Fit a Gamma distribution to the data\n",
    "fit_alpha, fit_loc, fit_beta = lognorm.fit(tmp_data.dur)"
   ]
  },
  {
   "cell_type": "code",
   "execution_count": 27,
   "metadata": {},
   "outputs": [],
   "source": [
    "# Generate values for the probability density function (PDF)\n",
    "x = np.linspace(min(tmp_data.dur), max(tmp_data.dur), 100)\n",
    "pdf_values = lognorm.pdf(x, fit_alpha, loc=fit_loc, scale=fit_beta)"
   ]
  },
  {
   "cell_type": "code",
   "execution_count": 32,
   "metadata": {},
   "outputs": [
    {
     "data": {
      "image/png": "[encoded data removed]",
      "text/plain": [
       "<Figure size 1200x600 with 1 Axes>"
      ]
     },
     "metadata": {},
     "output_type": "display_data"
    }
   ],
   "source": [
    "# Plotting\n",
    "plt.figure(figsize=(12, 6))\n",
    "sns.histplot(tmp_data.dur, bins=30, kde=False, color='blue', label='Data', stat='density')\n",
    "plt.plot(x, pdf_values, 'r-', lw=2, label=f'Fitted Lognorm\\nalpha={fit_alpha:.2f}, loc={fit_loc:.2f}, beta={fit_beta:.2f}')\n",
    "plt.title('Fitting Lognorm Distribution to Data')\n",
    "plt.xlabel('Value')\n",
    "plt.ylabel('Density')\n",
    "plt.legend()\n",
    "plt.show()"
   ]
  },
  {
   "cell_type": "code",
   "execution_count": 31,
   "metadata": {},
   "outputs": [
    {
     "name": "stdout",
     "output_type": "stream",
     "text": [
      "Estimated Alpha (Shape): 4.788607214045944\n",
      "Estimated Loc: 3.999999999678816\n",
      "Estimated Beta (Scale): 2.778015247807027\n"
     ]
    }
   ],
   "source": [
    "# Output the estimated parameters\n",
    "print(f\"Estimated Alpha (Shape): {fit_alpha}\")\n",
    "print(f\"Estimated Loc: {fit_loc}\")\n",
    "print(f\"Estimated Beta (Scale): {fit_beta}\")"
   ]
  },
  {
   "cell_type": "markdown",
   "metadata": {},
   "source": [
    "## Choices"
   ]
  },
  {
   "cell_type": "code",
   "execution_count": 19,
   "metadata": {},
   "outputs": [],
   "source": [
    "c = 36\n",
    "session_nums = []\n",
    "choices = []\n",
    "item_value_dict = {}\n",
    "for subject in range(numsubjects):\n",
    "    tmp_data = pd.read_csv(data_dir+'subject_files/sub-{}_setsize-{}_desc-gazes.csv'.format(subject, c))\n",
    "    session_nums.append( len(tmp_data.trial.unique()))\n",
    "    choices.append(len(tmp_data.choice.unique()))\n",
    "    items = tmp_data[['item', 'item_value']]"
   ]
  },
  {
   "cell_type": "code",
   "execution_count": 20,
   "metadata": {},
   "outputs": [],
   "source": [
    "df = pd.DataFrame({\"sessions\":session_nums, \"choices\":choices})"
   ]
  },
  {
   "cell_type": "code",
   "execution_count": 21,
   "metadata": {},
   "outputs": [
    {
     "data": {
      "text/plain": [
       "count    49.000000\n",
       "mean     24.551020\n",
       "std       3.697191\n",
       "min      13.000000\n",
       "25%      23.000000\n",
       "50%      25.000000\n",
       "75%      27.000000\n",
       "max      31.000000\n",
       "Name: choices, dtype: float64"
      ]
     },
     "execution_count": 21,
     "metadata": {},
     "output_type": "execute_result"
    }
   ],
   "source": [
    "df.choices.describe()"
   ]
  },
  {
   "cell_type": "code",
   "execution_count": 22,
   "metadata": {},
   "outputs": [
    {
     "data": {
      "text/plain": [
       "<AxesSubplot:ylabel='Frequency'>"
      ]
     },
     "execution_count": 22,
     "metadata": {},
     "output_type": "execute_result"
    },
    {
     "data": {
      "image/png": "[encoded data removed]",
      "text/plain": [
       "<Figure size 432x288 with 1 Axes>"
      ]
     },
     "metadata": {
      "needs_background": "light"
     },
     "output_type": "display_data"
    }
   ],
   "source": [
    "df.plot.hist()"
   ]
  },
  {
   "cell_type": "markdown",
   "metadata": {},
   "source": [
    "## For each subject, fit lognormal distro to duration times"
   ]
  },
  {
   "cell_type": "code",
   "execution_count": 34,
   "metadata": {},
   "outputs": [],
   "source": [
    "from scipy.stats import norm, expon, lognorm, weibull_min\n",
    "from scipy.optimize import minimize"
   ]
  },
  {
   "cell_type": "code",
   "execution_count": 33,
   "metadata": {},
   "outputs": [],
   "source": [
    "num_subj = 48"
   ]
  },
  {
   "cell_type": "code",
   "execution_count": 35,
   "metadata": {},
   "outputs": [],
   "source": [
    "# Function to calculate the negative log-likelihood for a given distribution and data\n",
    "def negative_log_likelihood(params, data, distribution):\n",
    "    if distribution == 'normal':\n",
    "        mu, std = params\n",
    "        log_likelihood = -np.sum(norm.logpdf(data, mu, std))\n",
    "    elif distribution == 'exponential':\n",
    "        _, scale = params\n",
    "        log_likelihood = -np.sum(expon.logpdf(data, scale=scale))\n",
    "    elif distribution == 'lognormal':\n",
    "        mu, std = params\n",
    "        log_likelihood = -np.sum(lognorm.logpdf(data, std, scale=np.exp(mu)))\n",
    "    elif distribution == 'weibull':\n",
    "        c, _, scale = params\n",
    "        log_likelihood = -np.sum(weibull_min.logpdf(data, c, scale=scale))\n",
    "    else:\n",
    "        raise ValueError(\"Invalid distribution\")\n",
    "    \n",
    "    return log_likelihood"
   ]
  },
  {
   "cell_type": "code",
   "execution_count": 41,
   "metadata": {},
   "outputs": [],
   "source": [
    "results = []\n",
    "for i in range(num_subj):\n",
    "    fname = '../data/subject_files/' + f'sub-{i}_setsize-36_desc-gazes.csv'\n",
    "    data = pd.read_csv(fname)\n",
    "    dur_data_new = data['dur']\n",
    "    params_initial = [np.log(np.mean(dur_data_new)), np.std(np.log(dur_data_new))]\n",
    "\n",
    "    # Minimize the negative log-likelihood\n",
    "    distribution = 'lognormal'\n",
    "    result = minimize(negative_log_likelihood, params_initial, args=(dur_data_new, distribution))\n",
    "    results.append((i, distribution, result.fun, result.x[0], result.x[1]))"
   ]
  },
  {
   "cell_type": "code",
   "execution_count": 42,
   "metadata": {},
   "outputs": [],
   "source": [
    "results_df = pd.DataFrame(results, columns=['Subject', 'Distribution', 'Negative Log-Likelihood', 'mu', 'sigma'])"
   ]
  },
  {
   "cell_type": "code",
   "execution_count": 44,
   "metadata": {},
   "outputs": [
    {
     "data": {
      "text/html": [
       "<div>\n",
       "<style scoped>\n",
       "    .dataframe tbody tr th:only-of-type {\n",
       "        vertical-align: middle;\n",
       "    }\n",
       "\n",
       "    .dataframe tbody tr th {\n",
       "        vertical-align: top;\n",
       "    }\n",
       "\n",
       "    .dataframe thead th {\n",
       "        text-align: right;\n",
       "    }\n",
       "</style>\n",
       "<table border=\"1\" class=\"dataframe\">\n",
       "  <thead>\n",
       "    <tr style=\"text-align: right;\">\n",
       "      <th></th>\n",
       "      <th>Subject</th>\n",
       "      <th>Distribution</th>\n",
       "      <th>Negative Log-Likelihood</th>\n",
       "      <th>mu</th>\n",
       "      <th>sigma</th>\n",
       "    </tr>\n",
       "  </thead>\n",
       "  <tbody>\n",
       "    <tr>\n",
       "      <th>0</th>\n",
       "      <td>0</td>\n",
       "      <td>lognormal</td>\n",
       "      <td>5246.878317</td>\n",
       "      <td>5.290226</td>\n",
       "      <td>0.503992</td>\n",
       "    </tr>\n",
       "    <tr>\n",
       "      <th>1</th>\n",
       "      <td>1</td>\n",
       "      <td>lognormal</td>\n",
       "      <td>4312.718892</td>\n",
       "      <td>5.293565</td>\n",
       "      <td>0.447236</td>\n",
       "    </tr>\n",
       "    <tr>\n",
       "      <th>2</th>\n",
       "      <td>2</td>\n",
       "      <td>lognormal</td>\n",
       "      <td>3385.928095</td>\n",
       "      <td>5.284860</td>\n",
       "      <td>0.547153</td>\n",
       "    </tr>\n",
       "    <tr>\n",
       "      <th>3</th>\n",
       "      <td>3</td>\n",
       "      <td>lognormal</td>\n",
       "      <td>3972.112396</td>\n",
       "      <td>5.186634</td>\n",
       "      <td>0.477904</td>\n",
       "    </tr>\n",
       "    <tr>\n",
       "      <th>4</th>\n",
       "      <td>4</td>\n",
       "      <td>lognormal</td>\n",
       "      <td>6640.880646</td>\n",
       "      <td>5.457363</td>\n",
       "      <td>0.502971</td>\n",
       "    </tr>\n",
       "  </tbody>\n",
       "</table>\n",
       "</div>"
      ],
      "text/plain": [
       "   Subject Distribution  Negative Log-Likelihood        mu     sigma\n",
       "0        0    lognormal              5246.878317  5.290226  0.503992\n",
       "1        1    lognormal              4312.718892  5.293565  0.447236\n",
       "2        2    lognormal              3385.928095  5.284860  0.547153\n",
       "3        3    lognormal              3972.112396  5.186634  0.477904\n",
       "4        4    lognormal              6640.880646  5.457363  0.502971"
      ]
     },
     "execution_count": 44,
     "metadata": {},
     "output_type": "execute_result"
    }
   ],
   "source": [
    "results_df.head()"
   ]
  },
  {
   "cell_type": "code",
   "execution_count": null,
   "metadata": {},
   "outputs": [],
   "source": [
    "plt.scatter(results_df.mu, results_df.sigma)"
   ]
  },
  {
   "cell_type": "code",
   "execution_count": 48,
   "metadata": {},
   "outputs": [
    {
     "data": {
      "text/plain": [
       "<seaborn.axisgrid.JointGrid at 0x16df95fd0>"
      ]
     },
     "execution_count": 48,
     "metadata": {},
     "output_type": "execute_result"
    },
    {
     "data": {
      "image/png": "[encoded data removed]",
      "text/plain": [
       "<Figure size 600x600 with 3 Axes>"
      ]
     },
     "metadata": {},
     "output_type": "display_data"
    }
   ],
   "source": [
    "# Create a scatter plot with histograms on each axis using seaborn's `jointplot`\n",
    "sns.jointplot(x=results_df.mu, y=results_df.sigma, kind='scatter', marginal_kws=dict(bins=25, fill=True))\n"
   ]
  },
  {
   "cell_type": "code",
   "execution_count": 49,
   "metadata": {},
   "outputs": [],
   "source": [
    "results_df.to_csv('duration_lognormal_fit.csv')"
   ]
  },
  {
   "cell_type": "code",
   "execution_count": null,
   "metadata": {},
   "outputs": [],
   "source": []
  }
 ],
 "metadata": {
  "kernelspec": {
   "display_name": "Python 3",
   "language": "python",
   "name": "python3"
  },
  "language_info": {
   "codemirror_mode": {
    "name": "ipython",
    "version": 3
   },
   "file_extension": ".py",
   "mimetype": "text/x-python",
   "name": "python",
   "nbconvert_exporter": "python",
   "pygments_lexer": "ipython3",
   "version": "3.11.0"
  },
  "orig_nbformat": 4
 },
 "nbformat": 4,
 "nbformat_minor": 2
}
