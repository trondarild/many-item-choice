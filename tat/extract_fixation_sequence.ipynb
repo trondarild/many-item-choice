{
 "cells": [
  {
   "cell_type": "code",
   "execution_count": 1,
   "metadata": {},
   "outputs": [],
   "source": [
    "import pandas as pd\n",
    "import numpy as np"
   ]
  },
  {
   "cell_type": "code",
   "execution_count": 10,
   "metadata": {},
   "outputs": [],
   "source": [
    "subject = 1\n",
    "setsize = 36\n",
    "# Re-establish the file path and reload the CSV file into a DataFrame\n",
    "file_path = f'../data/subject_files/sub-{subject}_setsize-{setsize}_desc-gazes.csv'\n",
    "df = pd.read_csv(file_path)\n"
   ]
  },
  {
   "cell_type": "code",
   "execution_count": 3,
   "metadata": {},
   "outputs": [],
   "source": [
    "\n",
    "# Function to map 'item' values to (x, y) coordinates in a 6x6 grid\n",
    "def map_item_to_coordinates(item):\n",
    "    x = (item - 1) % 6  # X-coordinate (column)\n",
    "    y = (item - 1) // 6  # Y-coordinate (row)\n",
    "    return x, y\n"
   ]
  },
  {
   "cell_type": "code",
   "execution_count": 4,
   "metadata": {},
   "outputs": [
    {
     "data": {
      "text/plain": [
       "[{'x': 2, 'y': 2, 'duration': 212.0},\n",
       " {'x': 2, 'y': 1, 'duration': 26.0},\n",
       " {'x': 1, 'y': 0, 'duration': 300.0},\n",
       " {'x': 1, 'y': 1, 'duration': 186.0},\n",
       " {'x': 4, 'y': 4, 'duration': 226.0}]"
      ]
     },
     "execution_count": 4,
     "metadata": {},
     "output_type": "execute_result"
    }
   ],
   "source": [
    "# Reload the CSV file into a DataFrame now that it's been re-uploaded\n",
    "# df = pd.read_csv('/mnt/data/sub-1_setsize-36_desc-gazes.csv')\n",
    "\n",
    "# Initialize a dictionary to hold the fixation sequences for each trial\n",
    "fixation_sequences = {}\n",
    "\n",
    "# Group the DataFrame by 'trial'\n",
    "for trial, group_df in df.groupby('trial'):\n",
    "    # Initialize a list to hold the fixation sequence for this trial\n",
    "    fixation_sequence = []\n",
    "    \n",
    "    # Iterate over each row in the group DataFrame\n",
    "    for _, row in group_df.iterrows():\n",
    "        # Map the 'item' value to (x, y) coordinates\n",
    "        x, y = map_item_to_coordinates(row['item'])\n",
    "        \n",
    "        # Get the duration ('dur') of the fixation\n",
    "        duration = row['dur']\n",
    "        \n",
    "        # Append this fixation to the fixation sequence for this trial\n",
    "        fixation_sequence.append({'x': x, 'y': y, 'duration': duration})\n",
    "    \n",
    "    # Save this fixation sequence to the fixation_sequences dictionary\n",
    "    fixation_sequences[trial] = fixation_sequence\n",
    "\n",
    "# Display a sample fixation sequence for one trial (for demonstration)\n",
    "sample_trial = list(fixation_sequences.keys())[0]\n",
    "fixation_sequences[sample_trial][:5]  # Displaying only first 5 fixations for sample trial\n"
   ]
  },
  {
   "cell_type": "code",
   "execution_count": 5,
   "metadata": {},
   "outputs": [
    {
     "data": {
      "text/plain": [
       "[{'x': 2, 'y': 2, 'duration': 212.0, 'ticks': 106},\n",
       " {'x': 2, 'y': 1, 'duration': 26.0, 'ticks': 13},\n",
       " {'x': 1, 'y': 0, 'duration': 300.0, 'ticks': 150},\n",
       " {'x': 1, 'y': 1, 'duration': 186.0, 'ticks': 93},\n",
       " {'x': 4, 'y': 4, 'duration': 226.0, 'ticks': 113}]"
      ]
     },
     "execution_count": 5,
     "metadata": {},
     "output_type": "execute_result"
    }
   ],
   "source": [
    "# Define the sample time in milliseconds based on the 500Hz sampling rate\n",
    "# 1 second = 1000 milliseconds, so 1/500 * 1000 gives the sample time in milliseconds\n",
    "sample_time_ms = 1 / 500 * 1000\n",
    "\n",
    "# Standardize the duration into ticks based on the sample time\n",
    "for trial, fixations in fixation_sequences.items():\n",
    "    for fixation in fixations:\n",
    "        fixation['ticks'] = int(round(fixation['duration'] / sample_time_ms))\n",
    "\n",
    "# Display the standardized ticks for the sample trial\n",
    "fixation_sequences[sample_trial][:5]  # Displaying only first 5 fixations for the sample trial\n"
   ]
  },
  {
   "cell_type": "code",
   "execution_count": 7,
   "metadata": {},
   "outputs": [],
   "source": [
    "import os\n"
   ]
  },
  {
   "cell_type": "code",
   "execution_count": 13,
   "metadata": {},
   "outputs": [],
   "source": [
    "\n",
    "# Create a directory to store the output files, if it doesn't exist\n",
    "fixation_output_dir = '../data/fixation_sequences'\n",
    "os.makedirs(fixation_output_dir, exist_ok=True)\n",
    "\n",
    "# Define the sample time in milliseconds based on the 500Hz sampling rate\n",
    "# 1 second = 1000 milliseconds, so 1/500 * 1000 gives the sample time in milliseconds\n",
    "sample_time_ms = 1 / 500 * 1000\n",
    "\n",
    "\n",
    "# Iterate through each trial's fixation sequence\n",
    "for trial, fixations in fixation_sequences.items():\n",
    "    simplified_sequence = []\n",
    "    \n",
    "    # Iterate over each fixation in the sequence\n",
    "    for fixation in fixations:\n",
    "        x, y = fixation['x'], fixation['y']\n",
    "        duration = fixation['duration']\n",
    "        \n",
    "        # Convert the duration into ticks based on the sample time\n",
    "        ticks = int(round(duration / sample_time_ms))\n",
    "        \n",
    "        # Append this x, y pair consecutively for the number of ticks/10\n",
    "        ticks //= 10  # Conserve space by dividing the number of ticks by 10\n",
    "        simplified_sequence.extend([(x, y)] * ticks)\n",
    "        \n",
    "    # Convert the simplified sequence to a string representation\n",
    "    sequence_str = 'OUTPUT/2\\n' + '\\n'.join([f\"{x} {y}\" for x, y in simplified_sequence])\n",
    "    \n",
    "    # Create the output file path\n",
    "    output_file_path = os.path.join(fixation_output_dir, f\"s_{subject}_{trial}_fixation_sequence.dat\")\n",
    "    \n",
    "    # Write the simplified sequence to a .dat file\n",
    "    with open(output_file_path, 'w') as f:\n",
    "        f.write(sequence_str)\n"
   ]
  }
 ],
 "metadata": {
  "kernelspec": {
   "display_name": "Python 3",
   "language": "python",
   "name": "python3"
  },
  "language_info": {
   "codemirror_mode": {
    "name": "ipython",
    "version": 3
   },
   "file_extension": ".py",
   "mimetype": "text/x-python",
   "name": "python",
   "nbconvert_exporter": "python",
   "pygments_lexer": "ipython3",
   "version": "3.11.0"
  },
  "orig_nbformat": 4
 },
 "nbformat": 4,
 "nbformat_minor": 2
}
